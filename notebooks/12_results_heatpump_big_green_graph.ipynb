{
 "cells": [
  {
   "cell_type": "code",
   "execution_count": 10,
   "metadata": {},
   "outputs": [
    {
     "name": "stdout",
     "output_type": "stream",
     "text": [
      "Average annual cost (heat-pump only):            $150\n",
      "Average annual savings (heat-pump + solar + storage): $1,816\n"
     ]
    }
   ],
   "source": [
    "avg_cost    = gdf[cost_col].abs().mean()\n",
    "avg_savings = gdf[savings_col].mean()\n",
    "\n",
    "print(f\"Average annual cost (heat-pump only):            ${avg_cost:,.0f}\")\n",
    "print(f\"Average annual savings (heat-pump + solar + storage): ${avg_savings:,.0f}\")"
   ]
  }
 ],
 "metadata": {
  "kernelspec": {
   "display_name": "Python 3",
   "language": "python",
   "name": "python3"
  },
  "language_info": {
   "codemirror_mode": {
    "name": "ipython",
    "version": 3
   },
   "file_extension": ".py",
   "mimetype": "text/x-python",
   "name": "python",
   "nbconvert_exporter": "python",
   "pygments_lexer": "ipython3",
   "version": "3.11.7"
  }
 },
 "nbformat": 4,
 "nbformat_minor": 2
}
