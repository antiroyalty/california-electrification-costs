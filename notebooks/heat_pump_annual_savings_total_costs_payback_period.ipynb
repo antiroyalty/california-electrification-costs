{
 "cells": [
  {
   "cell_type": "code",
   "execution_count": null,
   "metadata": {
    "vscode": {
     "languageId": "plaintext"
    }
   },
   "outputs": [],
   "source": [
    "# Get the data on the heat pump baseline case (not the solar + storage case)\n",
    "# What rates are used for each region?\n",
    "\n",
    "# PG&E: E-TOU_D\n",
    "# SCE: TOU-D-5-8PM\n",
    "# SDGE: TOU-DR-2"
   ]
  }
 ],
 "metadata": {
  "language_info": {
   "name": "python"
  }
 },
 "nbformat": 4,
 "nbformat_minor": 2
}
