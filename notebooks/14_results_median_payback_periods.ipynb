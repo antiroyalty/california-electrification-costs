{
 "cells": [
  {
   "cell_type": "code",
   "execution_count": 2,
   "metadata": {},
   "outputs": [
    {
     "name": "stdout",
     "output_type": "stream",
     "text": [
      "Payback Periods under normal subsidies\n",
      "36.225877327944424\n",
      "-180.87388244783156\n"
     ]
    }
   ],
   "source": [
    "import geopandas as gpd\n",
    "import matplotlib.pyplot as plt\n",
    "import numpy as np\n",
    "\n",
    "gdf = gpd.read_file(\n",
    "    \"../data/loadprofiles/heat_pump/single-family-detached/RESULTS/geojson/heat_pump_normal_subsidies.geojson\"\n",
    ")\n",
    "\n",
    "payback_period_elec_solar_storage = \"Payback Period (Electrification + Solar + Storage)\"\n",
    "payback_period_elec = \"Payback Period (Electrification Only)\"\n",
    "\n",
    "print(\"Payback Periods under normal subsidies\")\n",
    "median_payback_period_elec_solar_storage = gdf[payback_period_elec_solar_storage].mean()\n",
    "print(median_payback_period_elec_solar_storage)\n",
    "\n",
    "median_payback_period_elec = gdf[payback_period_elec].mean()\n",
    "print(median_payback_period_elec)"
   ]
  },
  {
   "cell_type": "code",
   "execution_count": 3,
   "metadata": {},
   "outputs": [
    {
     "name": "stdout",
     "output_type": "stream",
     "text": [
      "Payback Periods under 50 percent subsidies\n",
      "31.33976924747283\n",
      "-180.87388244783156\n"
     ]
    }
   ],
   "source": [
    "gdf = gpd.read_file(\n",
    "    \"../data/loadprofiles/heat_pump/single-family-detached/RESULTS/geojson/heat_pump_50_percent_subsidies.geojson\"\n",
    ")\n",
    "\n",
    "print(\"Payback Periods under 50 percent subsidies\")\n",
    "median_pp_ess_50p_subsidies = gdf[payback_period_elec_solar_storage].mean()\n",
    "print(median_pp_ess_50p_subsidies)\n",
    "\n",
    "median_pp_e_50p_subsidies = gdf[payback_period_elec].mean()\n",
    "print(median_payback_period_elec)"
   ]
  },
  {
   "cell_type": "code",
   "execution_count": 4,
   "metadata": {},
   "outputs": [
    {
     "name": "stdout",
     "output_type": "stream",
     "text": [
      "Difference in Payback Periods\n",
      "4.886108080471594\n"
     ]
    }
   ],
   "source": [
    "print(\"Difference in Payback Periods\")\n",
    "\n",
    "print(median_payback_period_elec_solar_storage - median_pp_ess_50p_subsidies)"
   ]
  },
  {
   "cell_type": "code",
   "execution_count": 5,
   "metadata": {},
   "outputs": [
    {
     "name": "stdout",
     "output_type": "stream",
     "text": [
      "Payback Periods under no subsidies\n",
      "39.07610704155286\n",
      "-221.7163720328258\n",
      "Difference with current\n",
      "2.850229713608435\n"
     ]
    }
   ],
   "source": [
    "gdf = gpd.read_file(\n",
    "    \"../data/loadprofiles/heat_pump/single-family-detached/RESULTS/geojson/heat_pump_no_subsidies.geojson\"\n",
    ")\n",
    "\n",
    "print(\"Payback Periods under no subsidies\")\n",
    "median_pp_ess_no_subsidies = gdf[payback_period_elec_solar_storage].mean()\n",
    "print(median_pp_ess_no_subsidies)\n",
    "\n",
    "median_pp_e_no_subsidies = gdf[payback_period_elec].mean()\n",
    "print(median_pp_e_no_subsidies)\n",
    "\n",
    "print(\"Difference with current\")\n",
    "print(median_pp_ess_no_subsidies - median_payback_period_elec_solar_storage)"
   ]
  },
  {
   "cell_type": "code",
   "execution_count": 11,
   "metadata": {},
   "outputs": [
    {
     "name": "stdout",
     "output_type": "stream",
     "text": [
      "21.87277821964526\n",
      "18.97822858382369\n",
      "28.804038562962873\n",
      "**********\n",
      "21.032277533382047\n",
      "18.296639716385933\n",
      "27.418436292290572\n",
      "**********\n",
      "21.51976793141471\n",
      "18.69196125949983\n",
      "28.22208560928051\n"
     ]
    }
   ],
   "source": [
    "gdf = gpd.read_file(\n",
    "    \"../data/loadprofiles/induction_stove/single-family-detached/RESULTS/geojson/induction_stove_0_subsidies.geojson\"\n",
    ")\n",
    "\n",
    "print(gdf[payback_period_elec_solar_storage].mean())\n",
    "print(gdf[payback_period_elec_solar_storage].min())\n",
    "print(gdf[payback_period_elec_solar_storage].max())\n",
    "\n",
    "print(\"*\"* 10)\n",
    "\n",
    "gdf = gpd.read_file(\n",
    "    \"../data/loadprofiles/induction_stove/single-family-detached/RESULTS/geojson/induction_stove_50_subsidies.geojson\"\n",
    ")\n",
    "\n",
    "print(gdf[payback_period_elec_solar_storage].mean())\n",
    "print(gdf[payback_period_elec_solar_storage].min())\n",
    "print(gdf[payback_period_elec_solar_storage].max())\n",
    "\n",
    "print(\"*\"* 10)\n",
    "\n",
    "gdf = gpd.read_file(\n",
    "    \"../data/loadprofiles/induction_stove/single-family-detached/RESULTS/geojson/induction_stove_normal_subsidies.geojson\"\n",
    ")\n",
    "\n",
    "print(gdf[payback_period_elec_solar_storage].mean())\n",
    "print(gdf[payback_period_elec_solar_storage].min())\n",
    "print(gdf[payback_period_elec_solar_storage].max())\n",
    "\n"
   ]
  }
 ],
 "metadata": {
  "kernelspec": {
   "display_name": "Python 3",
   "language": "python",
   "name": "python3"
  },
  "language_info": {
   "codemirror_mode": {
    "name": "ipython",
    "version": 3
   },
   "file_extension": ".py",
   "mimetype": "text/x-python",
   "name": "python",
   "nbconvert_exporter": "python",
   "pygments_lexer": "ipython3",
   "version": "3.11.7"
  }
 },
 "nbformat": 4,
 "nbformat_minor": 2
}
