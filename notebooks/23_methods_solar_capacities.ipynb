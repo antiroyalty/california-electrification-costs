{
 "cells": [
  {
   "cell_type": "code",
   "execution_count": null,
   "metadata": {
    "vscode": {
     "languageId": "plaintext"
    }
   },
   "outputs": [],
   "source": [
    "import matplotlib.pyplot as plt\n",
    "import geopandas as gpd\n",
    "import pandas as pd\n",
    "from pathlib import Path\n",
    "\n",
    "BASE_DIR = Path(\n",
    "    \"../data/loadprofiles/induction_stove/single-family-detached/RESULTS/geojson\"\n",
    ")\n",
    "\n",
    "FILES = {\n",
    "    \"normal_solar\"     : \"induction_stove_normal_solar.geojson\",\n",
    "    \"half_solar\"       : \"induction_stove_half_solar.geojson\",\n",
    "}"
   ]
  }
 ],
 "metadata": {
  "language_info": {
   "name": "python"
  }
 },
 "nbformat": 4,
 "nbformat_minor": 2
}
